{
  "nbformat": 4,
  "nbformat_minor": 0,
  "metadata": {
    "colab": {
      "provenance": [],
      "authorship_tag": "ABX9TyPUFXu5PFpGNiEP+IRzEt5b",
      "include_colab_link": true
    },
    "kernelspec": {
      "name": "python3",
      "display_name": "Python 3"
    },
    "language_info": {
      "name": "python"
    }
  },
  "cells": [
    {
      "cell_type": "markdown",
      "metadata": {
        "id": "view-in-github",
        "colab_type": "text"
      },
      "source": [
        "<a href=\"https://colab.research.google.com/github/amthreeh/BDA_-/blob/main/%EB%A6%AC%ED%8F%AC%ED%8A%B8/WEEK1_%ED%95%84%EC%88%98_%EA%B3%BC%EC%A0%9C1.ipynb\" target=\"_parent\"><img src=\"https://colab.research.google.com/assets/colab-badge.svg\" alt=\"Open In Colab\"/></a>"
      ]
    },
    {
      "cell_type": "markdown",
      "source": [
        "#교차 검증(Cross Validation)\n",
        "\n",
        "Train set과 test set으로 분리해서 데이터를 훈련시킵니다.\n",
        "분리하는 이유는 train set이 많이 학습되서 좋은 결과를 나타내지만 테스트셋에서는 과적합되어 실제 데이터를 가져와 예측을 수행하면  overfitting의 위험성이 있습니다.\n",
        "\n",
        "\toverfitting: 모델이 학습 데이터에만 과도하게 최적화되어, 실제 예측을 다른 데이터로 할 경우에 예측 성능이 떨어지는 것을 의미함.\n",
        "\n",
        "                         \n",
        "교차 검증은 이러한 데이터 편증을 막기 위해 여러 세트로 구성된 학습 데이터셋과 테스트셋에서 학습과 평가를 수행합니다. 그리고 각 세트에서 수행한 평가 결과에 따라 하이퍼파라미터 튜닝 등의 모델 최적화를 쉽게 할 수 있습니다.\n",
        "\n",
        "\n",
        "\n",
        "\n",
        "\n",
        "\n",
        "##교차 검증의 장점:\n",
        "  정확도 향상, 데이터 부족으로 인한 underfitting 방지\n",
        "  평가에 사용되는 데이터 편중을 막을 수 있습니다.\n",
        "\n",
        "교차 검증이란, 별도의 여러 세트로 구성된 학습 데이터 세트와 검증 데이터 세트에서 학습과 평가를 수행하는 것입니다.\n",
        "\n",
        "\n",
        "### K-Fold Cross Validation(k-겹 교차 검증)\n",
        "![image.png](data:image/png;base64,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)                    \n",
        "- 회귀 모델에 사용됨.\n",
        "- 가장 대표적인 방법\n",
        "- 원리: training set과 test set으로 나눔.\n",
        "- Training set을 k개의 폴드로 나누어 사용함.\n",
        "- Test set을 제외한 학습데이터를 몇등분(k-fold) 할 것인지 결정\n",
        "- K등분한 학습데이터와 validation데이터를 번갈아가며 바꿔서 진행\n",
        "- Cross_val_score을 통해 교차 검증이 잘 진행되었는지 확인가능함.\n",
        "\n",
        "####Train_test_split\n",
        "overfitting을 막기 위함\n",
        "\n",
        "\n",
        "#### 교차 검증이 잘 되었는지 확인하기(점수계산방법)\n",
        "cross_val_score (*scoring parameter*)\n",
        "\n",
        "##교차 검증 방법\n",
        "1. K-fold\n",
        "2. Stratified K Fold: target 속성의 개수를 일정하게 가져감. 데이터가 한곳으로 몰리는 것을 방지함.\n",
        "3. 반복되는 k-fold: RepeatedKFold\n",
        "4. Leave One Out (LOO) : 하나를 제외한 모든 샘플을 생성하는 방식\n",
        "5. Leave P Out(LPO): P=2이면 2개를 아웃시킴\n",
        "6. Shuffle & split으로 랜덤 교차검증하기\n"
      ],
      "metadata": {
        "id": "Nw2939jN1hB2"
      }
    },
    {
      "cell_type": "markdown",
      "source": [
        "#K-Fold 사용법"
      ],
      "metadata": {
        "id": "WFtCpeuc2wQ1"
      }
    },
    {
      "cell_type": "code",
      "source": [
        "#iris 데이터 불러오기기\n",
        "from sklearn.datasets import load_iris\n",
        "\n",
        "from sklearn.tree import DecisionTreeClassifier\n",
        "from sklearn.model_selection import KFold\n",
        "from sklearn.model_selection import train_test_split\n",
        "\n",
        "import pandas as pd\n",
        "import numpy as np"
      ],
      "metadata": {
        "id": "lmSfI38O1Y07"
      },
      "execution_count": 1,
      "outputs": []
    },
    {
      "cell_type": "markdown",
      "source": [
        "## iris 데이터 둘러보기"
      ],
      "metadata": {
        "id": "yFtN4Fsp4n3k"
      }
    },
    {
      "cell_type": "code",
      "source": [
        "iris = load_iris()\n",
        "iris_data = iris.data #각 키에 저장된 value 확인\n",
        "iris_data.shape"
      ],
      "metadata": {
        "colab": {
          "base_uri": "https://localhost:8080/"
        },
        "id": "Y7OoFI8t3P4W",
        "outputId": "56b17a6b-80a4-4e6d-8967-136d61d4fbca"
      },
      "execution_count": 2,
      "outputs": [
        {
          "output_type": "execute_result",
          "data": {
            "text/plain": [
              "(150, 4)"
            ]
          },
          "metadata": {},
          "execution_count": 2
        }
      ]
    },
    {
      "cell_type": "code",
      "source": [
        "iris.feature_names  #feature 확인"
      ],
      "metadata": {
        "colab": {
          "base_uri": "https://localhost:8080/"
        },
        "id": "N5YQspuG3ZwY",
        "outputId": "f7a88c4b-0d88-4b61-f2f9-e184b7c53e23"
      },
      "execution_count": 3,
      "outputs": [
        {
          "output_type": "execute_result",
          "data": {
            "text/plain": [
              "['sepal length (cm)',\n",
              " 'sepal width (cm)',\n",
              " 'petal length (cm)',\n",
              " 'petal width (cm)']"
            ]
          },
          "metadata": {},
          "execution_count": 3
        }
      ]
    },
    {
      "cell_type": "code",
      "source": [
        "iris_label = iris.target\n",
        "iris_label"
      ],
      "metadata": {
        "colab": {
          "base_uri": "https://localhost:8080/"
        },
        "id": "zM2GnGYY4ZUl",
        "outputId": "8b17d3bd-740a-43e2-ba8f-7fe2318afe9a"
      },
      "execution_count": 4,
      "outputs": [
        {
          "output_type": "execute_result",
          "data": {
            "text/plain": [
              "array([0, 0, 0, 0, 0, 0, 0, 0, 0, 0, 0, 0, 0, 0, 0, 0, 0, 0, 0, 0, 0, 0,\n",
              "       0, 0, 0, 0, 0, 0, 0, 0, 0, 0, 0, 0, 0, 0, 0, 0, 0, 0, 0, 0, 0, 0,\n",
              "       0, 0, 0, 0, 0, 0, 1, 1, 1, 1, 1, 1, 1, 1, 1, 1, 1, 1, 1, 1, 1, 1,\n",
              "       1, 1, 1, 1, 1, 1, 1, 1, 1, 1, 1, 1, 1, 1, 1, 1, 1, 1, 1, 1, 1, 1,\n",
              "       1, 1, 1, 1, 1, 1, 1, 1, 1, 1, 1, 1, 2, 2, 2, 2, 2, 2, 2, 2, 2, 2,\n",
              "       2, 2, 2, 2, 2, 2, 2, 2, 2, 2, 2, 2, 2, 2, 2, 2, 2, 2, 2, 2, 2, 2,\n",
              "       2, 2, 2, 2, 2, 2, 2, 2, 2, 2, 2, 2, 2, 2, 2, 2, 2, 2])"
            ]
          },
          "metadata": {},
          "execution_count": 4
        }
      ]
    },
    {
      "cell_type": "code",
      "source": [
        "iris.target_names"
      ],
      "metadata": {
        "colab": {
          "base_uri": "https://localhost:8080/"
        },
        "id": "yrna80ke4giP",
        "outputId": "acad875e-1980-471c-81ed-2dcdb1575ea1"
      },
      "execution_count": 5,
      "outputs": [
        {
          "output_type": "execute_result",
          "data": {
            "text/plain": [
              "array(['setosa', 'versicolor', 'virginica'], dtype='<U10')"
            ]
          },
          "metadata": {},
          "execution_count": 5
        }
      ]
    },
    {
      "cell_type": "code",
      "source": [
        "iris_df = pd.DataFrame(data=iris_data, columns=iris.feature_names)\n",
        "iris_df['y'] = iris.target"
      ],
      "metadata": {
        "id": "mLf6v2Hu4kjk"
      },
      "execution_count": 6,
      "outputs": []
    },
    {
      "cell_type": "code",
      "source": [
        "iris_df.head()"
      ],
      "metadata": {
        "colab": {
          "base_uri": "https://localhost:8080/",
          "height": 206
        },
        "id": "OMQBNQ6I43uH",
        "outputId": "8cd35e3e-2575-4b95-ff49-32f348dccb33"
      },
      "execution_count": 7,
      "outputs": [
        {
          "output_type": "execute_result",
          "data": {
            "text/plain": [
              "   sepal length (cm)  sepal width (cm)  petal length (cm)  petal width (cm)  y\n",
              "0                5.1               3.5                1.4               0.2  0\n",
              "1                4.9               3.0                1.4               0.2  0\n",
              "2                4.7               3.2                1.3               0.2  0\n",
              "3                4.6               3.1                1.5               0.2  0\n",
              "4                5.0               3.6                1.4               0.2  0"
            ],
            "text/html": [
              "\n",
              "  <div id=\"df-86a30020-8d8a-41d1-a721-306ba3ef514d\">\n",
              "    <div class=\"colab-df-container\">\n",
              "      <div>\n",
              "<style scoped>\n",
              "    .dataframe tbody tr th:only-of-type {\n",
              "        vertical-align: middle;\n",
              "    }\n",
              "\n",
              "    .dataframe tbody tr th {\n",
              "        vertical-align: top;\n",
              "    }\n",
              "\n",
              "    .dataframe thead th {\n",
              "        text-align: right;\n",
              "    }\n",
              "</style>\n",
              "<table border=\"1\" class=\"dataframe\">\n",
              "  <thead>\n",
              "    <tr style=\"text-align: right;\">\n",
              "      <th></th>\n",
              "      <th>sepal length (cm)</th>\n",
              "      <th>sepal width (cm)</th>\n",
              "      <th>petal length (cm)</th>\n",
              "      <th>petal width (cm)</th>\n",
              "      <th>y</th>\n",
              "    </tr>\n",
              "  </thead>\n",
              "  <tbody>\n",
              "    <tr>\n",
              "      <th>0</th>\n",
              "      <td>5.1</td>\n",
              "      <td>3.5</td>\n",
              "      <td>1.4</td>\n",
              "      <td>0.2</td>\n",
              "      <td>0</td>\n",
              "    </tr>\n",
              "    <tr>\n",
              "      <th>1</th>\n",
              "      <td>4.9</td>\n",
              "      <td>3.0</td>\n",
              "      <td>1.4</td>\n",
              "      <td>0.2</td>\n",
              "      <td>0</td>\n",
              "    </tr>\n",
              "    <tr>\n",
              "      <th>2</th>\n",
              "      <td>4.7</td>\n",
              "      <td>3.2</td>\n",
              "      <td>1.3</td>\n",
              "      <td>0.2</td>\n",
              "      <td>0</td>\n",
              "    </tr>\n",
              "    <tr>\n",
              "      <th>3</th>\n",
              "      <td>4.6</td>\n",
              "      <td>3.1</td>\n",
              "      <td>1.5</td>\n",
              "      <td>0.2</td>\n",
              "      <td>0</td>\n",
              "    </tr>\n",
              "    <tr>\n",
              "      <th>4</th>\n",
              "      <td>5.0</td>\n",
              "      <td>3.6</td>\n",
              "      <td>1.4</td>\n",
              "      <td>0.2</td>\n",
              "      <td>0</td>\n",
              "    </tr>\n",
              "  </tbody>\n",
              "</table>\n",
              "</div>\n",
              "      <button class=\"colab-df-convert\" onclick=\"convertToInteractive('df-86a30020-8d8a-41d1-a721-306ba3ef514d')\"\n",
              "              title=\"Convert this dataframe to an interactive table.\"\n",
              "              style=\"display:none;\">\n",
              "        \n",
              "  <svg xmlns=\"http://www.w3.org/2000/svg\" height=\"24px\"viewBox=\"0 0 24 24\"\n",
              "       width=\"24px\">\n",
              "    <path d=\"M0 0h24v24H0V0z\" fill=\"none\"/>\n",
              "    <path d=\"M18.56 5.44l.94 2.06.94-2.06 2.06-.94-2.06-.94-.94-2.06-.94 2.06-2.06.94zm-11 1L8.5 8.5l.94-2.06 2.06-.94-2.06-.94L8.5 2.5l-.94 2.06-2.06.94zm10 10l.94 2.06.94-2.06 2.06-.94-2.06-.94-.94-2.06-.94 2.06-2.06.94z\"/><path d=\"M17.41 7.96l-1.37-1.37c-.4-.4-.92-.59-1.43-.59-.52 0-1.04.2-1.43.59L10.3 9.45l-7.72 7.72c-.78.78-.78 2.05 0 2.83L4 21.41c.39.39.9.59 1.41.59.51 0 1.02-.2 1.41-.59l7.78-7.78 2.81-2.81c.8-.78.8-2.07 0-2.86zM5.41 20L4 18.59l7.72-7.72 1.47 1.35L5.41 20z\"/>\n",
              "  </svg>\n",
              "      </button>\n",
              "      \n",
              "  <style>\n",
              "    .colab-df-container {\n",
              "      display:flex;\n",
              "      flex-wrap:wrap;\n",
              "      gap: 12px;\n",
              "    }\n",
              "\n",
              "    .colab-df-convert {\n",
              "      background-color: #E8F0FE;\n",
              "      border: none;\n",
              "      border-radius: 50%;\n",
              "      cursor: pointer;\n",
              "      display: none;\n",
              "      fill: #1967D2;\n",
              "      height: 32px;\n",
              "      padding: 0 0 0 0;\n",
              "      width: 32px;\n",
              "    }\n",
              "\n",
              "    .colab-df-convert:hover {\n",
              "      background-color: #E2EBFA;\n",
              "      box-shadow: 0px 1px 2px rgba(60, 64, 67, 0.3), 0px 1px 3px 1px rgba(60, 64, 67, 0.15);\n",
              "      fill: #174EA6;\n",
              "    }\n",
              "\n",
              "    [theme=dark] .colab-df-convert {\n",
              "      background-color: #3B4455;\n",
              "      fill: #D2E3FC;\n",
              "    }\n",
              "\n",
              "    [theme=dark] .colab-df-convert:hover {\n",
              "      background-color: #434B5C;\n",
              "      box-shadow: 0px 1px 3px 1px rgba(0, 0, 0, 0.15);\n",
              "      filter: drop-shadow(0px 1px 2px rgba(0, 0, 0, 0.3));\n",
              "      fill: #FFFFFF;\n",
              "    }\n",
              "  </style>\n",
              "\n",
              "      <script>\n",
              "        const buttonEl =\n",
              "          document.querySelector('#df-86a30020-8d8a-41d1-a721-306ba3ef514d button.colab-df-convert');\n",
              "        buttonEl.style.display =\n",
              "          google.colab.kernel.accessAllowed ? 'block' : 'none';\n",
              "\n",
              "        async function convertToInteractive(key) {\n",
              "          const element = document.querySelector('#df-86a30020-8d8a-41d1-a721-306ba3ef514d');\n",
              "          const dataTable =\n",
              "            await google.colab.kernel.invokeFunction('convertToInteractive',\n",
              "                                                     [key], {});\n",
              "          if (!dataTable) return;\n",
              "\n",
              "          const docLinkHtml = 'Like what you see? Visit the ' +\n",
              "            '<a target=\"_blank\" href=https://colab.research.google.com/notebooks/data_table.ipynb>data table notebook</a>'\n",
              "            + ' to learn more about interactive tables.';\n",
              "          element.innerHTML = '';\n",
              "          dataTable['output_type'] = 'display_data';\n",
              "          await google.colab.output.renderOutput(dataTable, element);\n",
              "          const docLink = document.createElement('div');\n",
              "          docLink.innerHTML = docLinkHtml;\n",
              "          element.appendChild(docLink);\n",
              "        }\n",
              "      </script>\n",
              "    </div>\n",
              "  </div>\n",
              "  "
            ]
          },
          "metadata": {},
          "execution_count": 7
        }
      ]
    },
    {
      "cell_type": "markdown",
      "source": [
        "#홀드아웃 교차검증: train_test_split\n",
        "\n",
        "- train: 모델을 학습시키기 위한 dataset\n",
        "- validataion: 이미 학습이 완료된 모델을 검증하기 위한 dataset.        \n",
        "    모델을 업데이트할 때 사용될 뿐, 학습을 시키지 않지만 학습에 '관여'함\n",
        "- test: 학습과 검증이 완료된 모델의 성능을 평가하기 위한 dataset"
      ],
      "metadata": {
        "id": "12c85t5r5PqW"
      }
    },
    {
      "cell_type": "code",
      "source": [
        "X_train, X_test, y_train, y_test = train_test_split(iris_data, iris_label, test_size=0.3, random_state=11111)"
      ],
      "metadata": {
        "id": "OIjUSegv5MBl"
      },
      "execution_count": 8,
      "outputs": []
    },
    {
      "cell_type": "code",
      "source": [
        "print(X_train.shape)\n",
        "print(X_test.shape)\n",
        "print(y_train.shape)\n",
        "print(y_test.shape)"
      ],
      "metadata": {
        "colab": {
          "base_uri": "https://localhost:8080/"
        },
        "id": "NaB-u1v55u3T",
        "outputId": "5fb7ae7e-ce47-4498-e79e-2e5dcd3d9e1b"
      },
      "execution_count": 9,
      "outputs": [
        {
          "output_type": "stream",
          "name": "stdout",
          "text": [
            "(105, 4)\n",
            "(45, 4)\n",
            "(105,)\n",
            "(45,)\n"
          ]
        }
      ]
    },
    {
      "cell_type": "markdown",
      "source": [
        "150개의 데이터를 7:3 비율로 trainset과 testset으로 분리함."
      ],
      "metadata": {
        "id": "0Az-VQ2s6QPe"
      }
    },
    {
      "cell_type": "code",
      "source": [
        "from sklearn.metrics import accuracy_score\n",
        "\n",
        "df_clf = DecisionTreeClassifier(random_state=111)\n",
        "df_clf.fit(X_train, y_train)\n",
        "\n",
        "pred = df_clf.predict(X_test)\n",
        "print('정확도: {0:.3f}'.format(accuracy_score(y_test, pred)))"
      ],
      "metadata": {
        "colab": {
          "base_uri": "https://localhost:8080/"
        },
        "id": "zNumZu0UAWak",
        "outputId": "9d2ddf71-25b1-49bd-97ac-15569b651480"
      },
      "execution_count": 12,
      "outputs": [
        {
          "output_type": "stream",
          "name": "stdout",
          "text": [
            "정확도: 0.978\n"
          ]
        }
      ]
    },
    {
      "cell_type": "markdown",
      "source": [
        "#kfold 교차검증"
      ],
      "metadata": {
        "id": "CZTEYaEh7j7E"
      }
    },
    {
      "cell_type": "code",
      "source": [
        "from sklearn.model_selection import KFold\n",
        "SPLITS = 5\n",
        "kf = KFold(n_splits = SPLITS)\n",
        "n_iter = 0"
      ],
      "metadata": {
        "id": "UCtql2GS54xo"
      },
      "execution_count": 29,
      "outputs": []
    },
    {
      "cell_type": "code",
      "source": [
        "from sklearn.tree import DecisionTreeClassifier\n",
        "score_list = []\n",
        "\n",
        "for train_idx, test_idx in kf.split(iris_data):\n",
        "  n_iter+=1\n",
        "  X_train, X_test = iris_data[train_idx], iris_data[test_idx]\n",
        "  y_train, y_test = iris_label[train_idx], iris_label[test_idx]\n",
        "\n",
        "  df_clf = DecisionTreeClassifier(random_state=111)\n",
        "  df_clf.fit(X_train, y_train)\n",
        "  preds = df_clf.predict(X_test)\n",
        "  score = accuracy_score(y_test, preds)\n",
        "\n",
        "  print(f'{n_iter}번째 acuuracy score: {score}')\n",
        "  score_list.append(score)"
      ],
      "metadata": {
        "id": "ZQgtNysmR86h",
        "colab": {
          "base_uri": "https://localhost:8080/"
        },
        "outputId": "8a798131-f6c6-40cc-a94c-94982302040c"
      },
      "execution_count": 30,
      "outputs": [
        {
          "output_type": "stream",
          "name": "stdout",
          "text": [
            "1번째 acuuracy score: 1.0\n",
            "2번째 acuuracy score: 0.9666666666666667\n",
            "3번째 acuuracy score: 0.8666666666666667\n",
            "4번째 acuuracy score: 0.9333333333333333\n",
            "5번째 acuuracy score: 0.7333333333333333\n"
          ]
        }
      ]
    },
    {
      "cell_type": "markdown",
      "source": [
        "#Stratified K-Fold 교차검증"
      ],
      "metadata": {
        "id": "ljtBgkzB7ma9"
      }
    },
    {
      "cell_type": "code",
      "source": [
        "from sklearn.model_selection import StratifiedKFold\n",
        "\n",
        "SPLITS = 5\n",
        "skf = StratifiedKFold(n_splits=SPLITS)\n",
        "n_iter=0"
      ],
      "metadata": {
        "id": "2ymVl3kq7o5W"
      },
      "execution_count": 25,
      "outputs": []
    },
    {
      "cell_type": "code",
      "source": [
        "from sklearn.tree import DecisionTreeClassifier\n",
        "score_list = []\n",
        "\n",
        "#stratifiedKFold의 split()호출시 반드시 레이블 데이터 셋도 추가 입력 필요요\n",
        "for train_idx, test_idx in skf.split(iris_data, iris_label):\n",
        "  n_iter+=1\n",
        "  X_train, X_test = iris_data[train_idx], iris_data[test_idx]\n",
        "  y_train, y_test = iris_label[train_idx], iris_label[test_idx]\n",
        "\n",
        "  df_clf = DecisionTreeClassifier(random_state=111)\n",
        "  df_clf.fit(X_train, y_train)\n",
        "  preds = df_clf.predict(X_test)\n",
        "  score = accuracy_score(y_test, preds)\n",
        "\n",
        "  print(f'{n_iter}번째 acuuracy score: {score}')\n",
        "  score_list.append(score)"
      ],
      "metadata": {
        "id": "UCWqji8B_eQq",
        "colab": {
          "base_uri": "https://localhost:8080/"
        },
        "outputId": "01a32bd4-efce-41e0-c7c6-580e85f7f8ff"
      },
      "execution_count": 28,
      "outputs": [
        {
          "output_type": "stream",
          "name": "stdout",
          "text": [
            "1번째 acuuracy score: 0.9666666666666667\n",
            "2번째 acuuracy score: 0.9666666666666667\n",
            "3번째 acuuracy score: 0.9\n",
            "4번째 acuuracy score: 0.9666666666666667\n",
            "5번째 acuuracy score: 1.0\n"
          ]
        }
      ]
    },
    {
      "cell_type": "markdown",
      "source": [
        "데이터 특성상 label의 비율을 반영한 stratifiedKfold가 더 정확도가 높았음을 알 수 있습니다."
      ],
      "metadata": {
        "id": "RsN5Hn1zE7z5"
      }
    }
  ]
}